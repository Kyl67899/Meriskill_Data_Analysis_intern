{
 "cells": [
  {
   "cell_type": "markdown",
   "metadata": {},
   "source": [
    "## Meriskill Data Analysis Internship"
   ]
  },
  {
   "cell_type": "markdown",
   "metadata": {},
   "source": [
    "#### Data Cleaning:\n",
    "#### Deleting redundant columns.\n",
    "#### Renaming the columns.\n",
    "#### Dropping duplicates.\n",
    "#### Cleaning individual columns.\n",
    "#### Remove the NaN values from the dataset\n",
    "#### Check for some more Transformations\n",
    "#### Data Visualization:\n",
    "#### ∙        Plot a correlation map for all numeric variables\n",
    "#### ∙        Overtime\n",
    "#### ∙        Marital Status\n",
    "#### ∙        Job Role\n",
    "#### ∙        Gender\n",
    "#### ∙        Education Field\n",
    "#### ∙        Department\n",
    "#### ∙        Business Travel\n",
    "#### ∙        Relation between Overtime and Age\n",
    "#### ∙        Total Working Years\n",
    "#### ∙        Education Level\n",
    "#### ∙        Number of Companies Worked\n",
    "#### ∙        Distance from Home\n"
   ]
  },
  {
   "cell_type": "code",
   "execution_count": null,
   "metadata": {
    "vscode": {
     "languageId": "plaintext"
    }
   },
   "outputs": [],
   "source": []
  }
 ],
 "metadata": {
  "language_info": {
   "name": "python"
  }
 },
 "nbformat": 4,
 "nbformat_minor": 2
}
