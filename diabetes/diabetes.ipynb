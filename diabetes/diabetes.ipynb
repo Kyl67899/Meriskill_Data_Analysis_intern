{
 "cells": [
  {
   "cell_type": "markdown",
   "metadata": {},
   "source": [
    "## Meriskill Data Analysis Internship"
   ]
  },
  {
   "cell_type": "markdown",
   "metadata": {},
   "source": [
    "#### About Dataset\n",
    "#### This dataset is originally from the National Institute of Diabetes and Digestive and Kidney\n",
    "#### Diseases. The objective of the dataset is to diagnostically predict whether a patient has diabetes\n",
    "#### based on certain diagnostic measurements included in the dataset. Several constraints were placed\n",
    "#### on the selection of these instances from a larger database. In particular, all patients here are females\n",
    "#### at least 21 years old of Pima Indian heritage.2\n",
    "#### From the data set in the (.csv) File We can find several variables, some of them are independent\n",
    "#### (several medical predictor variables) and only one target dependent variable (Outcome).\n"
   ]
  },
  {
   "cell_type": "code",
   "execution_count": null,
   "metadata": {
    "vscode": {
     "languageId": "plaintext"
    }
   },
   "outputs": [],
   "source": [
    "import pandas as pd\n",
    "import seaborn as sns\n"
   ]
  }
 ],
 "metadata": {
  "language_info": {
   "name": "python"
  }
 },
 "nbformat": 4,
 "nbformat_minor": 2
}
